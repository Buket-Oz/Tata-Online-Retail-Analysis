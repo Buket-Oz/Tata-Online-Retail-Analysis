{
 "cells": [
  {
   "cell_type": "markdown",
   "id": "5640e809-ad9f-4dfa-a838-c389351d23ff",
   "metadata": {},
   "source": [
    "# In this notebook:\n",
    "\n",
    "1. Importing libraries and data\n",
    "\n",
    "2. Data cleaning\n",
    "\n",
    "   2.1 Checking for missing values\n",
    "\n",
    "   2.2 Checking for duplicates\n",
    "\n",
    "   2.3 Checking for invalid transactions\n",
    "\n",
    "\n",
    "3. Exploratory analysis and further cleaning\n",
    "\n",
    "   3.1 Identifying outliers\n",
    "\n",
    "   3.2 Identifying non-product descriptions\n",
    "\n",
    "   3.3 Exploring Geographical Distribution\n",
    "\n",
    "   3.4 Exploring product variety and number of customers\n",
    "\n",
    "   3.5 Exploring UnitPrice and Quantity in the Cleaned Dataset\n",
    "\n",
    "\n",
    "\n",
    "5. Exporting the data frame"
   ]
  },
  {
   "cell_type": "markdown",
   "id": "b9f3a21c-c98e-424f-a20b-67ad8d425aec",
   "metadata": {},
   "source": [
    "# 1. Importing libraries and data"
   ]
  },
  {
   "cell_type": "code",
   "execution_count": 4,
   "id": "5995af78-6fb8-4850-9258-4638fca48896",
   "metadata": {},
   "outputs": [],
   "source": [
    "#Import libraries \n",
    "import pandas as pd\n",
    "import numpy as np\n",
    "import seaborn as sns\n",
    "import matplotlib.pyplot as plt\n",
    "import matplotlib\n",
    "import os"
   ]
  },
  {
   "cell_type": "code",
   "execution_count": 6,
   "id": "8ebe160f-d5aa-4a57-9cde-7230b92510ef",
   "metadata": {},
   "outputs": [],
   "source": [
    "path = r'/Users/buketoztekin/Documents/Tata Internship/'\n",
    "df = pd.read_excel(os.path.join(path, 'Online Retail Data Set.xlsx'))"
   ]
  },
  {
   "cell_type": "code",
   "execution_count": 10,
   "id": "0d5bb36b-a3d1-44aa-8539-43d16d94390e",
   "metadata": {},
   "outputs": [
    {
     "data": {
      "text/plain": [
       "pandas.core.frame.DataFrame"
      ]
     },
     "execution_count": 10,
     "metadata": {},
     "output_type": "execute_result"
    }
   ],
   "source": [
    "type(df)"
   ]
  },
  {
   "cell_type": "code",
   "execution_count": 7,
   "id": "4cfd38c0-4c47-461c-8204-4a24bf51d67d",
   "metadata": {},
   "outputs": [
    {
     "data": {
      "text/html": [
       "<div>\n",
       "<style scoped>\n",
       "    .dataframe tbody tr th:only-of-type {\n",
       "        vertical-align: middle;\n",
       "    }\n",
       "\n",
       "    .dataframe tbody tr th {\n",
       "        vertical-align: top;\n",
       "    }\n",
       "\n",
       "    .dataframe thead th {\n",
       "        text-align: right;\n",
       "    }\n",
       "</style>\n",
       "<table border=\"1\" class=\"dataframe\">\n",
       "  <thead>\n",
       "    <tr style=\"text-align: right;\">\n",
       "      <th></th>\n",
       "      <th>InvoiceNo</th>\n",
       "      <th>StockCode</th>\n",
       "      <th>Description</th>\n",
       "      <th>Quantity</th>\n",
       "      <th>InvoiceDate</th>\n",
       "      <th>UnitPrice</th>\n",
       "      <th>CustomerID</th>\n",
       "      <th>Country</th>\n",
       "    </tr>\n",
       "  </thead>\n",
       "  <tbody>\n",
       "    <tr>\n",
       "      <th>0</th>\n",
       "      <td>536365</td>\n",
       "      <td>85123A</td>\n",
       "      <td>WHITE HANGING HEART T-LIGHT HOLDER</td>\n",
       "      <td>6</td>\n",
       "      <td>2010-12-01 08:26:00</td>\n",
       "      <td>2.55</td>\n",
       "      <td>17850.0</td>\n",
       "      <td>United Kingdom</td>\n",
       "    </tr>\n",
       "    <tr>\n",
       "      <th>1</th>\n",
       "      <td>536365</td>\n",
       "      <td>71053</td>\n",
       "      <td>WHITE METAL LANTERN</td>\n",
       "      <td>6</td>\n",
       "      <td>2010-12-01 08:26:00</td>\n",
       "      <td>3.39</td>\n",
       "      <td>17850.0</td>\n",
       "      <td>United Kingdom</td>\n",
       "    </tr>\n",
       "    <tr>\n",
       "      <th>2</th>\n",
       "      <td>536365</td>\n",
       "      <td>84406B</td>\n",
       "      <td>CREAM CUPID HEARTS COAT HANGER</td>\n",
       "      <td>8</td>\n",
       "      <td>2010-12-01 08:26:00</td>\n",
       "      <td>2.75</td>\n",
       "      <td>17850.0</td>\n",
       "      <td>United Kingdom</td>\n",
       "    </tr>\n",
       "    <tr>\n",
       "      <th>3</th>\n",
       "      <td>536365</td>\n",
       "      <td>84029G</td>\n",
       "      <td>KNITTED UNION FLAG HOT WATER BOTTLE</td>\n",
       "      <td>6</td>\n",
       "      <td>2010-12-01 08:26:00</td>\n",
       "      <td>3.39</td>\n",
       "      <td>17850.0</td>\n",
       "      <td>United Kingdom</td>\n",
       "    </tr>\n",
       "    <tr>\n",
       "      <th>4</th>\n",
       "      <td>536365</td>\n",
       "      <td>84029E</td>\n",
       "      <td>RED WOOLLY HOTTIE WHITE HEART.</td>\n",
       "      <td>6</td>\n",
       "      <td>2010-12-01 08:26:00</td>\n",
       "      <td>3.39</td>\n",
       "      <td>17850.0</td>\n",
       "      <td>United Kingdom</td>\n",
       "    </tr>\n",
       "  </tbody>\n",
       "</table>\n",
       "</div>"
      ],
      "text/plain": [
       "  InvoiceNo StockCode                          Description  Quantity  \\\n",
       "0    536365    85123A   WHITE HANGING HEART T-LIGHT HOLDER         6   \n",
       "1    536365     71053                  WHITE METAL LANTERN         6   \n",
       "2    536365    84406B       CREAM CUPID HEARTS COAT HANGER         8   \n",
       "3    536365    84029G  KNITTED UNION FLAG HOT WATER BOTTLE         6   \n",
       "4    536365    84029E       RED WOOLLY HOTTIE WHITE HEART.         6   \n",
       "\n",
       "          InvoiceDate  UnitPrice  CustomerID         Country  \n",
       "0 2010-12-01 08:26:00       2.55     17850.0  United Kingdom  \n",
       "1 2010-12-01 08:26:00       3.39     17850.0  United Kingdom  \n",
       "2 2010-12-01 08:26:00       2.75     17850.0  United Kingdom  \n",
       "3 2010-12-01 08:26:00       3.39     17850.0  United Kingdom  \n",
       "4 2010-12-01 08:26:00       3.39     17850.0  United Kingdom  "
      ]
     },
     "execution_count": 7,
     "metadata": {},
     "output_type": "execute_result"
    }
   ],
   "source": [
    "df.head()"
   ]
  },
  {
   "cell_type": "code",
   "execution_count": 12,
   "id": "a3b6560e-ba54-446e-8985-92406de41277",
   "metadata": {},
   "outputs": [
    {
     "data": {
      "text/plain": [
       "(541909, 8)"
      ]
     },
     "execution_count": 12,
     "metadata": {},
     "output_type": "execute_result"
    }
   ],
   "source": [
    "df.shape"
   ]
  },
  {
   "cell_type": "markdown",
   "id": "0536f58e-2c47-40ff-8d18-af9346959165",
   "metadata": {},
   "source": [
    "# Data Cleaning"
   ]
  },
  {
   "cell_type": "markdown",
   "id": "28f84377-4845-4676-8a4c-61597e9558ca",
   "metadata": {},
   "source": [
    "## 2.1. Checking for missing values"
   ]
  },
  {
   "cell_type": "code",
   "execution_count": 16,
   "id": "33400150-5b16-4bce-b857-10b214ee86f2",
   "metadata": {},
   "outputs": [
    {
     "data": {
      "text/plain": [
       "InvoiceNo           0\n",
       "StockCode           0\n",
       "Description      1454\n",
       "Quantity            0\n",
       "InvoiceDate         0\n",
       "UnitPrice           0\n",
       "CustomerID     135080\n",
       "Country             0\n",
       "dtype: int64"
      ]
     },
     "execution_count": 16,
     "metadata": {},
     "output_type": "execute_result"
    }
   ],
   "source": [
    "df.isnull().sum()"
   ]
  },
  {
   "cell_type": "code",
   "execution_count": 18,
   "id": "79df8784-b095-4111-a322-858c653bffc8",
   "metadata": {},
   "outputs": [],
   "source": [
    "# Replacing missing values with NaN for accurate missing data handling in the Description and CustomerID columns\n",
    "df['CustomerID'] = df['CustomerID'].replace('NULL', np.nan)  # Convert NULL to NaN\n",
    "df['Description'] = df['Description'].replace('NULL', np.nan)  # Convert NULL to NaN"
   ]
  },
  {
   "cell_type": "code",
   "execution_count": 20,
   "id": "3133a7f4-90a3-49ac-969d-b01f74c4ec00",
   "metadata": {},
   "outputs": [
    {
     "name": "stdout",
     "output_type": "stream",
     "text": [
      "CustomerID     135080\n",
      "Description      1454\n",
      "dtype: int64\n"
     ]
    }
   ],
   "source": [
    "# Count the number of NaN values in CustomerID and Description columns\n",
    "nan_counts = df[[\"CustomerID\", \"Description\"]].isna().sum()\n",
    "\n",
    "# Display results\n",
    "print(nan_counts)"
   ]
  },
  {
   "cell_type": "markdown",
   "id": "2dc5bec8-d644-4555-8cf9-703e8105bed4",
   "metadata": {},
   "source": [
    "## 2.2. Checking for duplicates"
   ]
  },
  {
   "cell_type": "code",
   "execution_count": 23,
   "id": "0e01a69f-6640-405e-9389-69d6381f2b4d",
   "metadata": {},
   "outputs": [
    {
     "data": {
      "text/plain": [
       "5268"
      ]
     },
     "execution_count": 23,
     "metadata": {},
     "output_type": "execute_result"
    }
   ],
   "source": [
    "df.duplicated().sum()"
   ]
  },
  {
   "cell_type": "code",
   "execution_count": 27,
   "id": "7babb85f-00a4-4621-8d3d-c02a4366cbcc",
   "metadata": {},
   "outputs": [
    {
     "data": {
      "text/plain": [
       "(536641, 8)"
      ]
     },
     "execution_count": 27,
     "metadata": {},
     "output_type": "execute_result"
    }
   ],
   "source": [
    "#Dropping the duplicates and checking the shape of the new data frame after duplicates are dropped\n",
    "df = df.drop_duplicates()\n",
    "df.shape"
   ]
  },
  {
   "cell_type": "markdown",
   "id": "30e18cf2-ce25-4482-ba26-ffbcf0b5f6cb",
   "metadata": {},
   "source": [
    "## 2.3. Checking for invalid transactions"
   ]
  },
  {
   "cell_type": "code",
   "execution_count": 30,
   "id": "4c0c96c1-a20d-447f-b0eb-719b09c2c12d",
   "metadata": {
    "scrolled": true
   },
   "outputs": [
    {
     "data": {
      "text/html": [
       "<div>\n",
       "<style scoped>\n",
       "    .dataframe tbody tr th:only-of-type {\n",
       "        vertical-align: middle;\n",
       "    }\n",
       "\n",
       "    .dataframe tbody tr th {\n",
       "        vertical-align: top;\n",
       "    }\n",
       "\n",
       "    .dataframe thead th {\n",
       "        text-align: right;\n",
       "    }\n",
       "</style>\n",
       "<table border=\"1\" class=\"dataframe\">\n",
       "  <thead>\n",
       "    <tr style=\"text-align: right;\">\n",
       "      <th></th>\n",
       "      <th>InvoiceNo</th>\n",
       "      <th>StockCode</th>\n",
       "      <th>Description</th>\n",
       "      <th>Quantity</th>\n",
       "      <th>InvoiceDate</th>\n",
       "      <th>UnitPrice</th>\n",
       "      <th>CustomerID</th>\n",
       "      <th>Country</th>\n",
       "    </tr>\n",
       "  </thead>\n",
       "  <tbody>\n",
       "    <tr>\n",
       "      <th>141</th>\n",
       "      <td>C536379</td>\n",
       "      <td>D</td>\n",
       "      <td>Discount</td>\n",
       "      <td>-1</td>\n",
       "      <td>2010-12-01 09:41:00</td>\n",
       "      <td>27.50</td>\n",
       "      <td>14527.0</td>\n",
       "      <td>United Kingdom</td>\n",
       "    </tr>\n",
       "    <tr>\n",
       "      <th>154</th>\n",
       "      <td>C536383</td>\n",
       "      <td>35004C</td>\n",
       "      <td>SET OF 3 COLOURED  FLYING DUCKS</td>\n",
       "      <td>-1</td>\n",
       "      <td>2010-12-01 09:49:00</td>\n",
       "      <td>4.65</td>\n",
       "      <td>15311.0</td>\n",
       "      <td>United Kingdom</td>\n",
       "    </tr>\n",
       "    <tr>\n",
       "      <th>235</th>\n",
       "      <td>C536391</td>\n",
       "      <td>22556</td>\n",
       "      <td>PLASTERS IN TIN CIRCUS PARADE</td>\n",
       "      <td>-12</td>\n",
       "      <td>2010-12-01 10:24:00</td>\n",
       "      <td>1.65</td>\n",
       "      <td>17548.0</td>\n",
       "      <td>United Kingdom</td>\n",
       "    </tr>\n",
       "    <tr>\n",
       "      <th>236</th>\n",
       "      <td>C536391</td>\n",
       "      <td>21984</td>\n",
       "      <td>PACK OF 12 PINK PAISLEY TISSUES</td>\n",
       "      <td>-24</td>\n",
       "      <td>2010-12-01 10:24:00</td>\n",
       "      <td>0.29</td>\n",
       "      <td>17548.0</td>\n",
       "      <td>United Kingdom</td>\n",
       "    </tr>\n",
       "    <tr>\n",
       "      <th>237</th>\n",
       "      <td>C536391</td>\n",
       "      <td>21983</td>\n",
       "      <td>PACK OF 12 BLUE PAISLEY TISSUES</td>\n",
       "      <td>-24</td>\n",
       "      <td>2010-12-01 10:24:00</td>\n",
       "      <td>0.29</td>\n",
       "      <td>17548.0</td>\n",
       "      <td>United Kingdom</td>\n",
       "    </tr>\n",
       "    <tr>\n",
       "      <th>...</th>\n",
       "      <td>...</td>\n",
       "      <td>...</td>\n",
       "      <td>...</td>\n",
       "      <td>...</td>\n",
       "      <td>...</td>\n",
       "      <td>...</td>\n",
       "      <td>...</td>\n",
       "      <td>...</td>\n",
       "    </tr>\n",
       "    <tr>\n",
       "      <th>540449</th>\n",
       "      <td>C581490</td>\n",
       "      <td>23144</td>\n",
       "      <td>ZINC T-LIGHT HOLDER STARS SMALL</td>\n",
       "      <td>-11</td>\n",
       "      <td>2011-12-09 09:57:00</td>\n",
       "      <td>0.83</td>\n",
       "      <td>14397.0</td>\n",
       "      <td>United Kingdom</td>\n",
       "    </tr>\n",
       "    <tr>\n",
       "      <th>541541</th>\n",
       "      <td>C581499</td>\n",
       "      <td>M</td>\n",
       "      <td>Manual</td>\n",
       "      <td>-1</td>\n",
       "      <td>2011-12-09 10:28:00</td>\n",
       "      <td>224.69</td>\n",
       "      <td>15498.0</td>\n",
       "      <td>United Kingdom</td>\n",
       "    </tr>\n",
       "    <tr>\n",
       "      <th>541715</th>\n",
       "      <td>C581568</td>\n",
       "      <td>21258</td>\n",
       "      <td>VICTORIAN SEWING BOX LARGE</td>\n",
       "      <td>-5</td>\n",
       "      <td>2011-12-09 11:57:00</td>\n",
       "      <td>10.95</td>\n",
       "      <td>15311.0</td>\n",
       "      <td>United Kingdom</td>\n",
       "    </tr>\n",
       "    <tr>\n",
       "      <th>541716</th>\n",
       "      <td>C581569</td>\n",
       "      <td>84978</td>\n",
       "      <td>HANGING HEART JAR T-LIGHT HOLDER</td>\n",
       "      <td>-1</td>\n",
       "      <td>2011-12-09 11:58:00</td>\n",
       "      <td>1.25</td>\n",
       "      <td>17315.0</td>\n",
       "      <td>United Kingdom</td>\n",
       "    </tr>\n",
       "    <tr>\n",
       "      <th>541717</th>\n",
       "      <td>C581569</td>\n",
       "      <td>20979</td>\n",
       "      <td>36 PENCILS TUBE RED RETROSPOT</td>\n",
       "      <td>-5</td>\n",
       "      <td>2011-12-09 11:58:00</td>\n",
       "      <td>1.25</td>\n",
       "      <td>17315.0</td>\n",
       "      <td>United Kingdom</td>\n",
       "    </tr>\n",
       "  </tbody>\n",
       "</table>\n",
       "<p>10587 rows × 8 columns</p>\n",
       "</div>"
      ],
      "text/plain": [
       "       InvoiceNo StockCode                       Description  Quantity  \\\n",
       "141      C536379         D                          Discount        -1   \n",
       "154      C536383    35004C   SET OF 3 COLOURED  FLYING DUCKS        -1   \n",
       "235      C536391     22556    PLASTERS IN TIN CIRCUS PARADE        -12   \n",
       "236      C536391     21984  PACK OF 12 PINK PAISLEY TISSUES        -24   \n",
       "237      C536391     21983  PACK OF 12 BLUE PAISLEY TISSUES        -24   \n",
       "...          ...       ...                               ...       ...   \n",
       "540449   C581490     23144   ZINC T-LIGHT HOLDER STARS SMALL       -11   \n",
       "541541   C581499         M                            Manual        -1   \n",
       "541715   C581568     21258        VICTORIAN SEWING BOX LARGE        -5   \n",
       "541716   C581569     84978  HANGING HEART JAR T-LIGHT HOLDER        -1   \n",
       "541717   C581569     20979     36 PENCILS TUBE RED RETROSPOT        -5   \n",
       "\n",
       "               InvoiceDate  UnitPrice  CustomerID         Country  \n",
       "141    2010-12-01 09:41:00      27.50     14527.0  United Kingdom  \n",
       "154    2010-12-01 09:49:00       4.65     15311.0  United Kingdom  \n",
       "235    2010-12-01 10:24:00       1.65     17548.0  United Kingdom  \n",
       "236    2010-12-01 10:24:00       0.29     17548.0  United Kingdom  \n",
       "237    2010-12-01 10:24:00       0.29     17548.0  United Kingdom  \n",
       "...                    ...        ...         ...             ...  \n",
       "540449 2011-12-09 09:57:00       0.83     14397.0  United Kingdom  \n",
       "541541 2011-12-09 10:28:00     224.69     15498.0  United Kingdom  \n",
       "541715 2011-12-09 11:57:00      10.95     15311.0  United Kingdom  \n",
       "541716 2011-12-09 11:58:00       1.25     17315.0  United Kingdom  \n",
       "541717 2011-12-09 11:58:00       1.25     17315.0  United Kingdom  \n",
       "\n",
       "[10587 rows x 8 columns]"
      ]
     },
     "execution_count": 30,
     "metadata": {},
     "output_type": "execute_result"
    }
   ],
   "source": [
    "#Checking for invalid transactions with 'Quantity' less than 1.\n",
    "df[df['Quantity'] < 1]"
   ]
  },
  {
   "cell_type": "code",
   "execution_count": 34,
   "id": "a422fbff-2476-4102-a52b-c19773729680",
   "metadata": {},
   "outputs": [
    {
     "data": {
      "text/html": [
       "<div>\n",
       "<style scoped>\n",
       "    .dataframe tbody tr th:only-of-type {\n",
       "        vertical-align: middle;\n",
       "    }\n",
       "\n",
       "    .dataframe tbody tr th {\n",
       "        vertical-align: top;\n",
       "    }\n",
       "\n",
       "    .dataframe thead th {\n",
       "        text-align: right;\n",
       "    }\n",
       "</style>\n",
       "<table border=\"1\" class=\"dataframe\">\n",
       "  <thead>\n",
       "    <tr style=\"text-align: right;\">\n",
       "      <th></th>\n",
       "      <th>InvoiceNo</th>\n",
       "      <th>StockCode</th>\n",
       "      <th>Description</th>\n",
       "      <th>Quantity</th>\n",
       "      <th>InvoiceDate</th>\n",
       "      <th>UnitPrice</th>\n",
       "      <th>CustomerID</th>\n",
       "      <th>Country</th>\n",
       "    </tr>\n",
       "  </thead>\n",
       "  <tbody>\n",
       "    <tr>\n",
       "      <th>622</th>\n",
       "      <td>536414</td>\n",
       "      <td>22139</td>\n",
       "      <td>NaN</td>\n",
       "      <td>56</td>\n",
       "      <td>2010-12-01 11:52:00</td>\n",
       "      <td>0.0</td>\n",
       "      <td>NaN</td>\n",
       "      <td>United Kingdom</td>\n",
       "    </tr>\n",
       "    <tr>\n",
       "      <th>1970</th>\n",
       "      <td>536545</td>\n",
       "      <td>21134</td>\n",
       "      <td>NaN</td>\n",
       "      <td>1</td>\n",
       "      <td>2010-12-01 14:32:00</td>\n",
       "      <td>0.0</td>\n",
       "      <td>NaN</td>\n",
       "      <td>United Kingdom</td>\n",
       "    </tr>\n",
       "    <tr>\n",
       "      <th>1971</th>\n",
       "      <td>536546</td>\n",
       "      <td>22145</td>\n",
       "      <td>NaN</td>\n",
       "      <td>1</td>\n",
       "      <td>2010-12-01 14:33:00</td>\n",
       "      <td>0.0</td>\n",
       "      <td>NaN</td>\n",
       "      <td>United Kingdom</td>\n",
       "    </tr>\n",
       "    <tr>\n",
       "      <th>1972</th>\n",
       "      <td>536547</td>\n",
       "      <td>37509</td>\n",
       "      <td>NaN</td>\n",
       "      <td>1</td>\n",
       "      <td>2010-12-01 14:33:00</td>\n",
       "      <td>0.0</td>\n",
       "      <td>NaN</td>\n",
       "      <td>United Kingdom</td>\n",
       "    </tr>\n",
       "    <tr>\n",
       "      <th>1987</th>\n",
       "      <td>536549</td>\n",
       "      <td>85226A</td>\n",
       "      <td>NaN</td>\n",
       "      <td>1</td>\n",
       "      <td>2010-12-01 14:34:00</td>\n",
       "      <td>0.0</td>\n",
       "      <td>NaN</td>\n",
       "      <td>United Kingdom</td>\n",
       "    </tr>\n",
       "    <tr>\n",
       "      <th>...</th>\n",
       "      <td>...</td>\n",
       "      <td>...</td>\n",
       "      <td>...</td>\n",
       "      <td>...</td>\n",
       "      <td>...</td>\n",
       "      <td>...</td>\n",
       "      <td>...</td>\n",
       "      <td>...</td>\n",
       "    </tr>\n",
       "    <tr>\n",
       "      <th>536981</th>\n",
       "      <td>581234</td>\n",
       "      <td>72817</td>\n",
       "      <td>NaN</td>\n",
       "      <td>27</td>\n",
       "      <td>2011-12-08 10:33:00</td>\n",
       "      <td>0.0</td>\n",
       "      <td>NaN</td>\n",
       "      <td>United Kingdom</td>\n",
       "    </tr>\n",
       "    <tr>\n",
       "      <th>538504</th>\n",
       "      <td>581406</td>\n",
       "      <td>46000M</td>\n",
       "      <td>POLYESTER FILLER PAD 45x45cm</td>\n",
       "      <td>240</td>\n",
       "      <td>2011-12-08 13:58:00</td>\n",
       "      <td>0.0</td>\n",
       "      <td>NaN</td>\n",
       "      <td>United Kingdom</td>\n",
       "    </tr>\n",
       "    <tr>\n",
       "      <th>538505</th>\n",
       "      <td>581406</td>\n",
       "      <td>46000S</td>\n",
       "      <td>POLYESTER FILLER PAD 40x40cm</td>\n",
       "      <td>300</td>\n",
       "      <td>2011-12-08 13:58:00</td>\n",
       "      <td>0.0</td>\n",
       "      <td>NaN</td>\n",
       "      <td>United Kingdom</td>\n",
       "    </tr>\n",
       "    <tr>\n",
       "      <th>538554</th>\n",
       "      <td>581408</td>\n",
       "      <td>85175</td>\n",
       "      <td>NaN</td>\n",
       "      <td>20</td>\n",
       "      <td>2011-12-08 14:06:00</td>\n",
       "      <td>0.0</td>\n",
       "      <td>NaN</td>\n",
       "      <td>United Kingdom</td>\n",
       "    </tr>\n",
       "    <tr>\n",
       "      <th>538919</th>\n",
       "      <td>581422</td>\n",
       "      <td>23169</td>\n",
       "      <td>smashed</td>\n",
       "      <td>-235</td>\n",
       "      <td>2011-12-08 15:24:00</td>\n",
       "      <td>0.0</td>\n",
       "      <td>NaN</td>\n",
       "      <td>United Kingdom</td>\n",
       "    </tr>\n",
       "  </tbody>\n",
       "</table>\n",
       "<p>2512 rows × 8 columns</p>\n",
       "</div>"
      ],
      "text/plain": [
       "       InvoiceNo StockCode                   Description  Quantity  \\\n",
       "622       536414     22139                           NaN        56   \n",
       "1970      536545     21134                           NaN         1   \n",
       "1971      536546     22145                           NaN         1   \n",
       "1972      536547     37509                           NaN         1   \n",
       "1987      536549    85226A                           NaN         1   \n",
       "...          ...       ...                           ...       ...   \n",
       "536981    581234     72817                           NaN        27   \n",
       "538504    581406    46000M  POLYESTER FILLER PAD 45x45cm       240   \n",
       "538505    581406    46000S  POLYESTER FILLER PAD 40x40cm       300   \n",
       "538554    581408     85175                           NaN        20   \n",
       "538919    581422     23169                       smashed      -235   \n",
       "\n",
       "               InvoiceDate  UnitPrice  CustomerID         Country  \n",
       "622    2010-12-01 11:52:00        0.0         NaN  United Kingdom  \n",
       "1970   2010-12-01 14:32:00        0.0         NaN  United Kingdom  \n",
       "1971   2010-12-01 14:33:00        0.0         NaN  United Kingdom  \n",
       "1972   2010-12-01 14:33:00        0.0         NaN  United Kingdom  \n",
       "1987   2010-12-01 14:34:00        0.0         NaN  United Kingdom  \n",
       "...                    ...        ...         ...             ...  \n",
       "536981 2011-12-08 10:33:00        0.0         NaN  United Kingdom  \n",
       "538504 2011-12-08 13:58:00        0.0         NaN  United Kingdom  \n",
       "538505 2011-12-08 13:58:00        0.0         NaN  United Kingdom  \n",
       "538554 2011-12-08 14:06:00        0.0         NaN  United Kingdom  \n",
       "538919 2011-12-08 15:24:00        0.0         NaN  United Kingdom  \n",
       "\n",
       "[2512 rows x 8 columns]"
      ]
     },
     "execution_count": 34,
     "metadata": {},
     "output_type": "execute_result"
    }
   ],
   "source": [
    "#Checking for invalid transactions with 'UnitPrice' less than or equal to 0.\n",
    "df[df['UnitPrice'] <= 0]"
   ]
  },
  {
   "cell_type": "code",
   "execution_count": 42,
   "id": "95a2faff-054c-46f4-90b1-e3ff2984cd70",
   "metadata": {},
   "outputs": [
    {
     "name": "stdout",
     "output_type": "stream",
     "text": [
      "Empty DataFrame\n",
      "Columns: [InvoiceNo, StockCode, Description, Quantity, InvoiceDate, UnitPrice, CustomerID, Country]\n",
      "Index: []\n"
     ]
    },
    {
     "data": {
      "text/plain": [
       "(524878, 8)"
      ]
     },
     "execution_count": 42,
     "metadata": {},
     "output_type": "execute_result"
    }
   ],
   "source": [
    "# Removing invalid transactions from the dataframe\n",
    "df = df[(df['Quantity'] >= 1) & (df['UnitPrice'] > 0)]\n",
    "print(df[(df['Quantity'] < 1) | (df['UnitPrice'] < 0)])  # Should return an empty DataFrame\n",
    "df.shape"
   ]
  },
  {
   "cell_type": "code",
   "execution_count": 40,
   "id": "26dd3518-36d0-435f-a10f-8317f3f45313",
   "metadata": {},
   "outputs": [],
   "source": [
    "#In total, 11763 rows with invalid transactions were dropped."
   ]
  },
  {
   "cell_type": "markdown",
   "id": "8154bcaa-1e29-4d59-83b1-ef2644b62a8c",
   "metadata": {},
   "source": [
    "# 3. Exploratory analysis and further cleaning"
   ]
  },
  {
   "cell_type": "markdown",
   "id": "2e2daae1-4664-4a26-9f28-9fd0dd0216ae",
   "metadata": {},
   "source": [
    "## 3.1 Identifying outliers"
   ]
  },
  {
   "cell_type": "code",
   "execution_count": 48,
   "id": "4fb6784b-6b83-454e-8cb2-69372b6b2414",
   "metadata": {},
   "outputs": [
    {
     "data": {
      "text/html": [
       "<div>\n",
       "<style scoped>\n",
       "    .dataframe tbody tr th:only-of-type {\n",
       "        vertical-align: middle;\n",
       "    }\n",
       "\n",
       "    .dataframe tbody tr th {\n",
       "        vertical-align: top;\n",
       "    }\n",
       "\n",
       "    .dataframe thead th {\n",
       "        text-align: right;\n",
       "    }\n",
       "</style>\n",
       "<table border=\"1\" class=\"dataframe\">\n",
       "  <thead>\n",
       "    <tr style=\"text-align: right;\">\n",
       "      <th></th>\n",
       "      <th>UnitPrice</th>\n",
       "      <th>Quantity</th>\n",
       "    </tr>\n",
       "  </thead>\n",
       "  <tbody>\n",
       "    <tr>\n",
       "      <th>count</th>\n",
       "      <td>524878.000000</td>\n",
       "      <td>524878.000000</td>\n",
       "    </tr>\n",
       "    <tr>\n",
       "      <th>mean</th>\n",
       "      <td>3.922573</td>\n",
       "      <td>10.616600</td>\n",
       "    </tr>\n",
       "    <tr>\n",
       "      <th>std</th>\n",
       "      <td>36.093028</td>\n",
       "      <td>156.280031</td>\n",
       "    </tr>\n",
       "    <tr>\n",
       "      <th>min</th>\n",
       "      <td>0.001000</td>\n",
       "      <td>1.000000</td>\n",
       "    </tr>\n",
       "    <tr>\n",
       "      <th>25%</th>\n",
       "      <td>1.250000</td>\n",
       "      <td>1.000000</td>\n",
       "    </tr>\n",
       "    <tr>\n",
       "      <th>50%</th>\n",
       "      <td>2.080000</td>\n",
       "      <td>4.000000</td>\n",
       "    </tr>\n",
       "    <tr>\n",
       "      <th>75%</th>\n",
       "      <td>4.130000</td>\n",
       "      <td>11.000000</td>\n",
       "    </tr>\n",
       "    <tr>\n",
       "      <th>max</th>\n",
       "      <td>13541.330000</td>\n",
       "      <td>80995.000000</td>\n",
       "    </tr>\n",
       "  </tbody>\n",
       "</table>\n",
       "</div>"
      ],
      "text/plain": [
       "           UnitPrice       Quantity\n",
       "count  524878.000000  524878.000000\n",
       "mean        3.922573      10.616600\n",
       "std        36.093028     156.280031\n",
       "min         0.001000       1.000000\n",
       "25%         1.250000       1.000000\n",
       "50%         2.080000       4.000000\n",
       "75%         4.130000      11.000000\n",
       "max     13541.330000   80995.000000"
      ]
     },
     "execution_count": 48,
     "metadata": {},
     "output_type": "execute_result"
    }
   ],
   "source": [
    "#Descriptive statistics for numerical variables\n",
    "df[['UnitPrice', 'Quantity']].describe()"
   ]
  },
  {
   "cell_type": "code",
   "execution_count": 50,
   "id": "e75a3236-014e-471d-a090-e7c00b1fc13e",
   "metadata": {},
   "outputs": [
    {
     "data": {
      "text/plain": [
       "<Axes: xlabel='UnitPrice'>"
      ]
     },
     "execution_count": 50,
     "metadata": {},
     "output_type": "execute_result"
    },
    {
     "data": {
      "image/png": "[encoded data removed]",
      "text/plain": [
       "<Figure size 640x480 with 1 Axes>"
      ]
     },
     "metadata": {},
     "output_type": "display_data"
    }
   ],
   "source": [
    "#Checking for possible outliers in 'UnitPrice'\n",
    "sns.boxplot(x=df['UnitPrice'])"
   ]
  },
  {
   "cell_type": "code",
   "execution_count": 52,
   "id": "28d2839d-6f0e-42cb-85f0-2df5faf45804",
   "metadata": {},
   "outputs": [
    {
     "data": {
      "text/plain": [
       "<Axes: xlabel='Quantity'>"
      ]
     },
     "execution_count": 52,
     "metadata": {},
     "output_type": "execute_result"
    },
    {
     "data": {
      "image/png": "[encoded data removed]",
      "text/plain": [
       "<Figure size 640x480 with 1 Axes>"
      ]
     },
     "metadata": {},
     "output_type": "display_data"
    }
   ],
   "source": [
    "#Checking for possible outliers in 'Quantity'\n",
    "sns.boxplot(x=df['Quantity'])"
   ]
  },
  {
   "cell_type": "markdown",
   "id": "75fcd21a-fffd-4e1d-a934-e87cc2211e9a",
   "metadata": {},
   "source": [
    "### 🔹 Identifying Outliers in Quantity & Unit Price\n",
    "\n",
    "The boxplots reveal that there are **significant outliers** in both the **Quantity** and **UnitPrice** distributions. These extreme values can distort our analysis by affecting summary statistics like the **mean** and visualizations.\n",
    "\n",
    "### Handling the outliers: Using the 99th percentile method\n",
    "Since our dataset is large and heavily skewed, using the **99th percentile** helps **retain 99% of valid transactions while removing the most extreme outliers**. This ensures that:\n",
    "- We **preserve meaningful data** without losing too many valid entries.\n",
    "- We **eliminate highly unrealistic prices or order quantities**, which may be **data entry errors** or **unusual transactions**.\n",
    "- Our insights are more **representative of normal business patterns** instead of being skewed by extreme values.\n",
    "\n",
    "By applying the **99th percentile threshold**, we effectively remove the highest **1% of extreme Unit Prices and Quantities**, ensuring a more **accurate and reliable analysis**."
   ]
  },
  {
   "cell_type": "code",
   "execution_count": 55,
   "id": "103b2bdd-0486-4fc7-b929-f26b9ab795f2",
   "metadata": {},
   "outputs": [
    {
     "name": "stdout",
     "output_type": "stream",
     "text": [
      "99th percentile for Unit Price: 16.98\n"
     ]
    }
   ],
   "source": [
    "#Checking 99th percentile treshold for UnitPrice\n",
    "price_threshold = df[\"UnitPrice\"].quantile(0.99)\n",
    "print(\"99th percentile for Unit Price:\", price_threshold)"
   ]
  },
  {
   "cell_type": "markdown",
   "id": "83ca0639-3592-4c57-8adf-a0bb7cf0926f",
   "metadata": {},
   "source": [
    "#### The 99th percentile threshold for Unit Price is $16.98, meaning that 99% of products are priced below this value, and any higher prices are considered outliers that may distort the analysis."
   ]
  },
  {
   "cell_type": "code",
   "execution_count": 58,
   "id": "c843cb94-fc8b-4751-b673-b76d75fec65e",
   "metadata": {},
   "outputs": [
    {
     "data": {
      "text/plain": [
       "count    519804.000000\n",
       "mean          3.104688\n",
       "std           2.947749\n",
       "min           0.001000\n",
       "25%           1.250000\n",
       "50%           2.080000\n",
       "75%           4.130000\n",
       "max          16.980000\n",
       "Name: UnitPrice, dtype: float64"
      ]
     },
     "execution_count": 58,
     "metadata": {},
     "output_type": "execute_result"
    }
   ],
   "source": [
    "# Define the threshold based on the 99th percentile\n",
    "quantity_threshold = df[\"UnitPrice\"].quantile(0.99)\n",
    "\n",
    "# Filter out extreme outliers\n",
    "df_filtered = df[df[\"UnitPrice\"] <= quantity_threshold]\n",
    "\n",
    "# Check the new distribution\n",
    "df_filtered[\"UnitPrice\"].describe()"
   ]
  },
  {
   "cell_type": "code",
   "execution_count": 60,
   "id": "88266b6f-450e-4474-a669-43b871d2de6c",
   "metadata": {},
   "outputs": [
    {
     "data": {
      "text/plain": [
       "<Axes: xlabel='UnitPrice'>"
      ]
     },
     "execution_count": 60,
     "metadata": {},
     "output_type": "execute_result"
    },
    {
     "data": {
      "image/png": "[encoded data removed]",
      "text/plain": [
       "<Figure size 640x480 with 1 Axes>"
      ]
     },
     "metadata": {},
     "output_type": "display_data"
    }
   ],
   "source": [
    "#Box plot for 'UnitPrice' after dropping the outliers\n",
    "sns.boxplot(x=df_filtered['UnitPrice'])"
   ]
  },
  {
   "cell_type": "markdown",
   "id": "752ac42d-c96a-466e-85e3-6b6c5091bfc2",
   "metadata": {},
   "source": [
    "#### The new boxplot shows a much more balanced distribution of unit prices."
   ]
  },
  {
   "cell_type": "code",
   "execution_count": 65,
   "id": "8736e40b-3997-49ff-ae47-00f8d37c24b2",
   "metadata": {},
   "outputs": [
    {
     "name": "stdout",
     "output_type": "stream",
     "text": [
      "99th percentile for Quantity: 100.0\n"
     ]
    }
   ],
   "source": [
    "#Checking 99th percentile treshold for Quantity\n",
    "quantity_threshold = df_filtered[\"Quantity\"].quantile(0.99)\n",
    "print(\"99th percentile for Quantity:\", quantity_threshold)"
   ]
  },
  {
   "cell_type": "markdown",
   "id": "7e1273de-6b2d-41a6-b2b0-71821826d9c3",
   "metadata": {},
   "source": [
    "#### The 99th percentile threshold for Quantity is 100, indicating that 99% of orders have a quantity of 100 or fewer, while higher values are considered outliers that may skew the analysis."
   ]
  },
  {
   "cell_type": "code",
   "execution_count": 68,
   "id": "c212a722-982a-4cab-bd8f-0da052dc9e60",
   "metadata": {},
   "outputs": [
    {
     "data": {
      "text/plain": [
       "count    514959.000000\n",
       "mean          8.050453\n",
       "std          12.642503\n",
       "min           1.000000\n",
       "25%           1.000000\n",
       "50%           4.000000\n",
       "75%          10.000000\n",
       "max         100.000000\n",
       "Name: Quantity, dtype: float64"
      ]
     },
     "execution_count": 68,
     "metadata": {},
     "output_type": "execute_result"
    }
   ],
   "source": [
    "# Filter out extreme outliers\n",
    "df_filtered2 = df_filtered[df_filtered[\"Quantity\"] <= quantity_threshold]\n",
    "\n",
    "# Check the new distribution\n",
    "df_filtered2[\"Quantity\"].describe()"
   ]
  },
  {
   "cell_type": "code",
   "execution_count": 70,
   "id": "3b096ebf-d223-4cda-b598-1ca5d6d6dfc4",
   "metadata": {},
   "outputs": [
    {
     "data": {
      "text/plain": [
       "<Axes: xlabel='Quantity'>"
      ]
     },
     "execution_count": 70,
     "metadata": {},
     "output_type": "execute_result"
    },
    {
     "data": {
      "image/png": "[encoded data removed]",
      "text/plain": [
       "<Figure size 640x480 with 1 Axes>"
      ]
     },
     "metadata": {},
     "output_type": "display_data"
    }
   ],
   "source": [
    "#Box plot for 'Quantity' after dropping the outliers\n",
    "sns.boxplot(x=df_filtered2['Quantity'])"
   ]
  },
  {
   "cell_type": "markdown",
   "id": "ddd325b9-31cf-4f1d-b05e-31f8380c7796",
   "metadata": {},
   "source": [
    "### After removing the outliers, both Unit Price and Quantity now exhibit a more balanced distribution, with fewer extreme values, making the data more representative of typical transactions and reducing skewness in the analysis."
   ]
  },
  {
   "cell_type": "markdown",
   "id": "01fc9ba9-6cc9-4f6e-929b-9d0cf762f8b3",
   "metadata": {},
   "source": [
    "## 3.2. Identifying non-product descriptions"
   ]
  },
  {
   "cell_type": "code",
   "execution_count": 78,
   "id": "12e94dd3-36d7-4f51-84ec-ecf464ae72a8",
   "metadata": {},
   "outputs": [
    {
     "data": {
      "text/plain": [
       "Description\n",
       "WHITE HANGING HEART T-LIGHT HOLDER     2274\n",
       "JUMBO BAG RED RETROSPOT                2049\n",
       "REGENCY CAKESTAND 3 TIER               1748\n",
       "PARTY BUNTING                          1684\n",
       "LUNCH BAG RED RETROSPOT                1577\n",
       "ASSORTED COLOUR BIRD ORNAMENT          1419\n",
       "SET OF 3 CAKE TINS PANTRY DESIGN       1387\n",
       "LUNCH BAG  BLACK SKULL.                1299\n",
       "PACK OF 72 RETROSPOT CAKE CASES        1276\n",
       "NATURAL SLATE HEART CHALKBOARD         1253\n",
       "JUMBO BAG PINK POLKADOT                1208\n",
       "HEART OF WICKER SMALL                  1201\n",
       "JUMBO STORAGE BAG SUKI                 1191\n",
       "JUMBO SHOPPER VINTAGE RED PAISLEY      1177\n",
       "PAPER CHAIN KIT 50'S CHRISTMAS         1162\n",
       "LUNCH BAG SPACEBOY DESIGN              1159\n",
       "LUNCH BAG CARS BLUE                    1158\n",
       "JAM MAKING SET PRINTED                 1154\n",
       "SPOTTY BUNTING                         1147\n",
       "JAM MAKING SET WITH JARS               1129\n",
       "RECIPE BOX PANTRY YELLOW DESIGN        1110\n",
       "WOODEN PICTURE FRAME WHITE FINISH      1100\n",
       "LUNCH BAG SUKI DESIGN                  1099\n",
       "LUNCH BAG PINK POLKADOT                1099\n",
       "SET OF 4 PANTRY JELLY MOULDS           1078\n",
       "ROSES REGENCY TEACUP AND SAUCER        1066\n",
       "ALARM CLOCK BAKELIKE RED               1057\n",
       "LUNCH BAG APPLE DESIGN                 1050\n",
       "RED RETROSPOT CHARLOTTE BAG            1028\n",
       "LUNCH BAG WOODLAND                     1027\n",
       "VICTORIAN GLASS HANGING T-LIGHT        1022\n",
       "GREEN REGENCY TEACUP AND SAUCER        1020\n",
       "SET/20 RED RETROSPOT PAPER NAPKINS     1001\n",
       "ALARM CLOCK BAKELIKE GREEN              985\n",
       "RABBIT NIGHT LIGHT                      979\n",
       "WOODEN FRAME ANTIQUE WHITE              977\n",
       "JUMBO BAG APPLES                        970\n",
       "RETROSPOT TEA SET CERAMIC 11 PC         964\n",
       "6 RIBBONS RUSTIC CHARM                  962\n",
       "BAKING SET 9 PIECE RETROSPOT            937\n",
       "JUMBO  BAG BAROQUE BLACK WHITE          931\n",
       "HEART OF WICKER LARGE                   925\n",
       "GARDENERS KNEELING PAD KEEP CALM        914\n",
       "VINTAGE SNAP CARDS                      911\n",
       "REX CASH+CARRY JUMBO SHOPPER            909\n",
       "JUMBO BAG ALPHABET                      894\n",
       "SET/5 RED RETROSPOT LID GLASS BOWLS     890\n",
       "SPACEBOY LUNCH BOX                      881\n",
       "JUMBO BAG VINTAGE LEAF                  880\n",
       "CHOCOLATE HOT WATER BOTTLE              872\n",
       "Name: count, dtype: int64"
      ]
     },
     "execution_count": 78,
     "metadata": {},
     "output_type": "execute_result"
    }
   ],
   "source": [
    "# Checking product descriptions to detect potential non-product transactions that could affect the analysis\n",
    "df_filtered2[\"Description\"].value_counts().head(50)"
   ]
  },
  {
   "cell_type": "code",
   "execution_count": 80,
   "id": "f898e5ee-3d66-451c-9b74-55485c3ce7b1",
   "metadata": {},
   "outputs": [
    {
     "data": {
      "text/plain": [
       "Description\n",
       "HOT WATER BOTTLE BABUSHKA LARGE        1\n",
       "SET/6 IVORY BIRD T-LIGHT CANDLES       1\n",
       "M/COLOUR POM-POM CURTAIN               1\n",
       "BLACK CHERRY LIGHTS                    1\n",
       "CURIOUS IMAGES SCRAP BOOK SET          1\n",
       "MINT DINER CLOCK                       1\n",
       "CAKE STAND LACE WHITE                  1\n",
       "CARRIAGE                               1\n",
       "BLUE GINGHAM ROSE CUSHION COVER        1\n",
       "BLUE CRYSTAL BOOT PHONE CHARM          1\n",
       "PINK ALLIUM  ARTIFICIAL FLOWER         1\n",
       " TOADSTOOL BEDSIDE LIGHT               1\n",
       "FIRE POLISHED GLASS NECKL GOLD         1\n",
       "BLUE/NAT SHELL NECKLACE W PENDANT      1\n",
       "ACRYLIC JEWEL SNOWFLAKE,PINK           1\n",
       "WHITE DOVE HONEYCOMB PAPER GARLAND     1\n",
       "FILIGREE DIAMANTE CHAIN                1\n",
       "GARDENERS KNEELING PAD                 1\n",
       "ORANGE/FUSCHIA STONES NECKLACE         1\n",
       "COUNTRY COTTAGE  DOORSTOP GREEN        1\n",
       "WATERING CAN SINGLE HOOK PISTACHIO     1\n",
       "KEEP OUT GIRLS DOOR HANGER             1\n",
       "BLACK GLASS/SHELL/PEARL NECKLACE       1\n",
       "HAPPY BIRTHDAY CARD TEDDY/CAKE         1\n",
       "BAROQUE BUTTERFLY EARRINGS RED         1\n",
       "CAKESTAND, 3 TIER, LOVEHEART           1\n",
       "PINK FLOCK PHOTO FRAME                 1\n",
       "GLASS BELL JAR SMALL                   1\n",
       "WRAP BLUE RUSSIAN FOLKART              1\n",
       "WALL ART,ONLY ONE PERSON               1\n",
       "DUSTY PINK CHRISTMAS TREE 30CM         1\n",
       "WHITE ANEMONE ARTIFICIAL FLOWER        1\n",
       "BLACKCHRISTMAS TREE 30CM               1\n",
       "PINK BOUDOIR T-LIGHT HOLDER            1\n",
       "DOLPHIN WINDMILL                       1\n",
       "ETCHED GLASS STAR TREE DECORATION      1\n",
       "PURPLE CHUNKY GLASS+BEAD NECKLACE      1\n",
       "ENAMEL DINNER PLATE PANTRY             1\n",
       "WALL ART , THE MAGIC FOREST            1\n",
       "GREEN PENDANT SHELL NECKLACE           1\n",
       "GLASS BEAD HOOP NECKLACE BLACK         1\n",
       "S/4 BLACK DISCO PARTITION PANEL        1\n",
       "CHRISTMAS TABLE CANDLE SILVER SPIKE    1\n",
       "HAYNES CAMPER SHOULDER BAG             1\n",
       "SET/4 2 TONE EGG SHAPE MIXING BOWLS    1\n",
       "LASER CUT MULTI STRAND NECKLACE        1\n",
       "BLOSSOM IMAGES SCRAP BOOK SET          1\n",
       "SET OF THREE VINTAGE GIFT WRAPS        1\n",
       "GLASS BELL JAR LARGE                   1\n",
       "PINK POLKADOT KIDS BAG                 1\n",
       "Name: count, dtype: int64"
      ]
     },
     "execution_count": 80,
     "metadata": {},
     "output_type": "execute_result"
    }
   ],
   "source": [
    "# Checking product descriptions to detect potential non-product transactions that could affect the analysis\n",
    "df_filtered2[\"Description\"].value_counts().tail(50)"
   ]
  },
  {
   "cell_type": "code",
   "execution_count": 84,
   "id": "49cc5f76-6496-443d-80de-3b65eaae1de8",
   "metadata": {},
   "outputs": [
    {
     "data": {
      "text/html": [
       "<div>\n",
       "<style scoped>\n",
       "    .dataframe tbody tr th:only-of-type {\n",
       "        vertical-align: middle;\n",
       "    }\n",
       "\n",
       "    .dataframe tbody tr th {\n",
       "        vertical-align: top;\n",
       "    }\n",
       "\n",
       "    .dataframe thead th {\n",
       "        text-align: right;\n",
       "    }\n",
       "</style>\n",
       "<table border=\"1\" class=\"dataframe\">\n",
       "  <thead>\n",
       "    <tr style=\"text-align: right;\">\n",
       "      <th></th>\n",
       "      <th>Description</th>\n",
       "      <th>UnitPrice</th>\n",
       "      <th>Quantity</th>\n",
       "    </tr>\n",
       "  </thead>\n",
       "  <tbody>\n",
       "    <tr>\n",
       "      <th>386</th>\n",
       "      <td>POSTAGE</td>\n",
       "      <td>15.00</td>\n",
       "      <td>1</td>\n",
       "    </tr>\n",
       "    <tr>\n",
       "      <th>2239</th>\n",
       "      <td>Manual</td>\n",
       "      <td>1.25</td>\n",
       "      <td>1</td>\n",
       "    </tr>\n",
       "    <tr>\n",
       "      <th>5684</th>\n",
       "      <td>Manual</td>\n",
       "      <td>2.55</td>\n",
       "      <td>1</td>\n",
       "    </tr>\n",
       "    <tr>\n",
       "      <th>6798</th>\n",
       "      <td>Manual</td>\n",
       "      <td>0.85</td>\n",
       "      <td>2</td>\n",
       "    </tr>\n",
       "    <tr>\n",
       "      <th>7976</th>\n",
       "      <td>Manual</td>\n",
       "      <td>0.42</td>\n",
       "      <td>12</td>\n",
       "    </tr>\n",
       "    <tr>\n",
       "      <th>...</th>\n",
       "      <td>...</td>\n",
       "      <td>...</td>\n",
       "      <td>...</td>\n",
       "    </tr>\n",
       "    <tr>\n",
       "      <th>536863</th>\n",
       "      <td>Next Day Carriage</td>\n",
       "      <td>15.00</td>\n",
       "      <td>1</td>\n",
       "    </tr>\n",
       "    <tr>\n",
       "      <th>537782</th>\n",
       "      <td>Next Day Carriage</td>\n",
       "      <td>15.00</td>\n",
       "      <td>1</td>\n",
       "    </tr>\n",
       "    <tr>\n",
       "      <th>538321</th>\n",
       "      <td>Manual</td>\n",
       "      <td>0.42</td>\n",
       "      <td>3</td>\n",
       "    </tr>\n",
       "    <tr>\n",
       "      <th>540841</th>\n",
       "      <td>BLACK BAROQUE CARRIAGE CLOCK</td>\n",
       "      <td>8.29</td>\n",
       "      <td>3</td>\n",
       "    </tr>\n",
       "    <tr>\n",
       "      <th>541198</th>\n",
       "      <td>POSTAGE</td>\n",
       "      <td>15.00</td>\n",
       "      <td>1</td>\n",
       "    </tr>\n",
       "  </tbody>\n",
       "</table>\n",
       "<p>583 rows × 3 columns</p>\n",
       "</div>"
      ],
      "text/plain": [
       "                         Description  UnitPrice  Quantity\n",
       "386                          POSTAGE      15.00         1\n",
       "2239                          Manual       1.25         1\n",
       "5684                          Manual       2.55         1\n",
       "6798                          Manual       0.85         2\n",
       "7976                          Manual       0.42        12\n",
       "...                              ...        ...       ...\n",
       "536863             Next Day Carriage      15.00         1\n",
       "537782             Next Day Carriage      15.00         1\n",
       "538321                        Manual       0.42         3\n",
       "540841  BLACK BAROQUE CARRIAGE CLOCK       8.29         3\n",
       "541198                       POSTAGE      15.00         1\n",
       "\n",
       "[583 rows x 3 columns]"
      ]
     },
     "execution_count": 84,
     "metadata": {},
     "output_type": "execute_result"
    }
   ],
   "source": [
    "# Identifying and removing non-product descriptions such as fees, postage, and adjustments that do not represent actual inventory sales\n",
    "\n",
    "import re\n",
    "\n",
    "# Define non-product keywords\n",
    "non_product_keywords = [\"POSTAGE\", \"FEE\", \"ADJUST\", \"MANUAL\", \"DOTCOM\", \"CARRIAGE\", \"REFUND\", \"DEBT\"]\n",
    "\n",
    "# Create a regex pattern that ensures full-word matches only\n",
    "pattern = r'\\b(?:' + '|'.join(non_product_keywords) + r')\\b'\n",
    "\n",
    "# Filter descriptions that exactly match these words\n",
    "non_product_rows = df_filtered2[df_filtered2[\"Description\"].str.contains(pattern, case=False, na=False, regex=True)]\n",
    "\n",
    "# Display results\n",
    "non_product_rows[[\"Description\", \"UnitPrice\", \"Quantity\"]]"
   ]
  },
  {
   "cell_type": "code",
   "execution_count": 86,
   "id": "c489ca76-d75e-4472-b7d6-696a0986ba5e",
   "metadata": {},
   "outputs": [
    {
     "name": "stdout",
     "output_type": "stream",
     "text": [
      "Non-product rows inside df_filtered2: 583\n"
     ]
    }
   ],
   "source": [
    "# Count how many rows in df_filtered2 contain non-product keywords\n",
    "count_non_products_before = df_filtered2[df_filtered2[\"Description\"].str.contains(pattern, case=False, na=False, regex=True)].shape[0]\n",
    "\n",
    "print(\"Non-product rows inside df_filtered2:\", count_non_products_before)"
   ]
  },
  {
   "cell_type": "markdown",
   "id": "6d581043-664e-479f-bfcc-2f366180caa8",
   "metadata": {},
   "source": [
    "#### A total of 583 rows were identified as non-product transactions\n",
    "#### These rows are removed to ensure that the analysis focuses only on actual product sales"
   ]
  },
  {
   "cell_type": "code",
   "execution_count": 89,
   "id": "7ff4e130-d9b9-4591-be49-947d0e192e03",
   "metadata": {},
   "outputs": [
    {
     "name": "stdout",
     "output_type": "stream",
     "text": [
      "Original dataframe size: (514959, 8)\n",
      "New dataframe size after removing non-products: (514376, 8)\n"
     ]
    }
   ],
   "source": [
    "df_cleaned_products = df_filtered2[~df_filtered2[\"Description\"].str.contains(pattern, case=False, na=False, regex=True)].copy()\n",
    "\n",
    "# Reset index\n",
    "df_cleaned_products = df_cleaned_products.reset_index(drop=True)\n",
    "\n",
    "# Confirm removal\n",
    "print(\"Original dataframe size:\", df_filtered2.shape)\n",
    "print(\"New dataframe size after removing non-products:\", df_cleaned_products.shape)"
   ]
  },
  {
   "cell_type": "markdown",
   "id": "7df99390-b9e6-4bb2-8086-fe2adcb4f2c2",
   "metadata": {},
   "source": [
    "#### After removing the non-product descriptions the new data frame has 514376 rows"
   ]
  },
  {
   "cell_type": "markdown",
   "id": "8bf4dfb6-3a89-41ff-9c56-71ffa383e5be",
   "metadata": {},
   "source": [
    "## 3.3 Exploring geographical distribution"
   ]
  },
  {
   "cell_type": "code",
   "execution_count": 98,
   "id": "66ef976a-fe95-4861-9a28-c104397e6902",
   "metadata": {},
   "outputs": [
    {
     "name": "stdout",
     "output_type": "stream",
     "text": [
      "Total number of unique countries: 38\n"
     ]
    }
   ],
   "source": [
    "# Count the number of unique countries\n",
    "unique_countries_count = df_cleaned_products[\"Country\"].nunique() \n",
    "\n",
    "# Display the result\n",
    "print(f\"Total number of unique countries: {unique_countries_count}\")"
   ]
  },
  {
   "cell_type": "code",
   "execution_count": 100,
   "id": "46a6d082-a399-4bf9-a384-9e4255776e46",
   "metadata": {},
   "outputs": [
    {
     "name": "stdout",
     "output_type": "stream",
     "text": [
      "Country\n",
      "United Kingdom          472174\n",
      "Germany                   8579\n",
      "France                    8021\n",
      "EIRE                      7534\n",
      "Spain                     2393\n",
      "Belgium                   1923\n",
      "Switzerland               1916\n",
      "Netherlands               1743\n",
      "Portugal                  1447\n",
      "Norway                    1032\n",
      "Australia                  928\n",
      "Italy                      738\n",
      "Channel Islands            736\n",
      "Finland                    635\n",
      "Cyprus                     589\n",
      "Unspecified                442\n",
      "Austria                    380\n",
      "Denmark                    361\n",
      "Poland                     322\n",
      "Sweden                     318\n",
      "Japan                      292\n",
      "Israel                     289\n",
      "Hong Kong                  271\n",
      "Singapore                  212\n",
      "Iceland                    181\n",
      "USA                        179\n",
      "Canada                     147\n",
      "Greece                     141\n",
      "Malta                      109\n",
      "United Arab Emirates        67\n",
      "European Community          57\n",
      "RSA                         57\n",
      "Lebanon                     45\n",
      "Lithuania                   35\n",
      "Brazil                      32\n",
      "Czech Republic              24\n",
      "Bahrain                     18\n",
      "Saudi Arabia                 9\n",
      "Name: count, dtype: int64\n"
     ]
    }
   ],
   "source": [
    "print(df_cleaned_products['Country'].value_counts(dropna=False))"
   ]
  },
  {
   "cell_type": "markdown",
   "id": "33c39d55-4481-44e2-a3ed-869c93900259",
   "metadata": {},
   "source": [
    "#### In total, there are **37 distinct countries** in the dataset. However, there is also one additional entry labeled as **'Unspecified'**, which represents transactions where the country information is missing or not recorded. \n",
    "\n",
    "#### - These transactions contain **valid revenue and quantity data**, which are essential for accurate sales analysis.  \n",
    "#### - Removing them would lead to **data loss**, potentially affecting total revenue calculations.  \n",
    "\n",
    "#### While the specific location of these transactions is unknown, they still contribute to overall business performance."
   ]
  },
  {
   "cell_type": "markdown",
   "id": "7e6fe9eb-cad4-4517-b03a-c9f7ba3264c3",
   "metadata": {},
   "source": [
    "## 3.4 Exploring product variety and number of customers"
   ]
  },
  {
   "cell_type": "code",
   "execution_count": 105,
   "id": "e57ab052-ad76-4ef9-ba42-e7c84377e917",
   "metadata": {},
   "outputs": [
    {
     "name": "stdout",
     "output_type": "stream",
     "text": [
      "Total unique product descriptions: 3978\n"
     ]
    }
   ],
   "source": [
    "# Count the number of unique product descriptions\n",
    "unique_products = df_cleaned_products[\"Description\"].nunique()\n",
    "\n",
    "print(f\"Total unique product descriptions: {unique_products}\")"
   ]
  },
  {
   "cell_type": "code",
   "execution_count": 116,
   "id": "c562ff5f-831e-4e73-8312-96cc0876ef3e",
   "metadata": {},
   "outputs": [
    {
     "name": "stdout",
     "output_type": "stream",
     "text": [
      "Total unique customers (excluding NaN): 4293\n",
      "Total missing CustomerID values: 128793\n"
     ]
    }
   ],
   "source": [
    "# Count total unique customers (excluding NaN values)\n",
    "unique_customers = df_cleaned_products[\"CustomerID\"].nunique(dropna=True)\n",
    "\n",
    "# Count the number of NaN values in CustomerID\n",
    "nan_customers = df_cleaned_products[\"CustomerID\"].isna().sum()\n",
    "\n",
    "# Display results\n",
    "print(f\"Total unique customers (excluding NaN): {unique_customers}\")\n",
    "print(f\"Total missing CustomerID values: {nan_customers}\")"
   ]
  },
  {
   "cell_type": "markdown",
   "id": "8cfbcd6c-ec2b-4ef8-991c-f0d70aca1962",
   "metadata": {},
   "source": [
    "## 3.5 Exploring UnitPrice and Quantity in the cleaned dataframe"
   ]
  },
  {
   "cell_type": "code",
   "execution_count": 110,
   "id": "4dcb935c-f385-457f-8289-dddfa7ff591f",
   "metadata": {},
   "outputs": [
    {
     "data": {
      "text/html": [
       "<div>\n",
       "<style scoped>\n",
       "    .dataframe tbody tr th:only-of-type {\n",
       "        vertical-align: middle;\n",
       "    }\n",
       "\n",
       "    .dataframe tbody tr th {\n",
       "        vertical-align: top;\n",
       "    }\n",
       "\n",
       "    .dataframe thead th {\n",
       "        text-align: right;\n",
       "    }\n",
       "</style>\n",
       "<table border=\"1\" class=\"dataframe\">\n",
       "  <thead>\n",
       "    <tr style=\"text-align: right;\">\n",
       "      <th></th>\n",
       "      <th>UnitPrice</th>\n",
       "      <th>Quantity</th>\n",
       "    </tr>\n",
       "  </thead>\n",
       "  <tbody>\n",
       "    <tr>\n",
       "      <th>count</th>\n",
       "      <td>514376.000000</td>\n",
       "      <td>514376.000000</td>\n",
       "    </tr>\n",
       "    <tr>\n",
       "      <th>mean</th>\n",
       "      <td>3.114710</td>\n",
       "      <td>8.055228</td>\n",
       "    </tr>\n",
       "    <tr>\n",
       "      <th>std</th>\n",
       "      <td>2.943337</td>\n",
       "      <td>12.645481</td>\n",
       "    </tr>\n",
       "    <tr>\n",
       "      <th>min</th>\n",
       "      <td>0.001000</td>\n",
       "      <td>1.000000</td>\n",
       "    </tr>\n",
       "    <tr>\n",
       "      <th>25%</th>\n",
       "      <td>1.250000</td>\n",
       "      <td>1.000000</td>\n",
       "    </tr>\n",
       "    <tr>\n",
       "      <th>50%</th>\n",
       "      <td>2.080000</td>\n",
       "      <td>4.000000</td>\n",
       "    </tr>\n",
       "    <tr>\n",
       "      <th>75%</th>\n",
       "      <td>4.130000</td>\n",
       "      <td>10.000000</td>\n",
       "    </tr>\n",
       "    <tr>\n",
       "      <th>max</th>\n",
       "      <td>16.980000</td>\n",
       "      <td>100.000000</td>\n",
       "    </tr>\n",
       "  </tbody>\n",
       "</table>\n",
       "</div>"
      ],
      "text/plain": [
       "           UnitPrice       Quantity\n",
       "count  514376.000000  514376.000000\n",
       "mean        3.114710       8.055228\n",
       "std         2.943337      12.645481\n",
       "min         0.001000       1.000000\n",
       "25%         1.250000       1.000000\n",
       "50%         2.080000       4.000000\n",
       "75%         4.130000      10.000000\n",
       "max        16.980000     100.000000"
      ]
     },
     "execution_count": 110,
     "metadata": {},
     "output_type": "execute_result"
    }
   ],
   "source": [
    "df_cleaned_products[[\"UnitPrice\", \"Quantity\"]].describe()"
   ]
  },
  {
   "cell_type": "code",
   "execution_count": 112,
   "id": "5533af47-c2e7-41a1-8e6a-8acbd0bed092",
   "metadata": {},
   "outputs": [
    {
     "data": {
      "image/png": "[encoded data removed]",
      "text/plain": [
       "<Figure size 1200x500 with 2 Axes>"
      ]
     },
     "metadata": {},
     "output_type": "display_data"
    }
   ],
   "source": [
    "# Plot histograms for 'UnitPrice' and 'Quantity' columns\n",
    "df_cleaned_products[[\"UnitPrice\", \"Quantity\"]].hist(bins=15, figsize=(12, 5), layout=(1, 2))\n",
    "plt.tight_layout()\n",
    "plt.show()"
   ]
  },
  {
   "cell_type": "code",
   "execution_count": 114,
   "id": "95a08560-5473-4a8f-84e5-3594e8f06e33",
   "metadata": {},
   "outputs": [
    {
     "name": "stdout",
     "output_type": "stream",
     "text": [
      "Average Quantity per Transaction: 214.61\n",
      "Total Revenue: $8,100,424.45\n"
     ]
    }
   ],
   "source": [
    "# Calculate Quantity per Transaction (Average quantity per unique invoice)\n",
    "quantity_per_transaction = df_cleaned_products.groupby(\"InvoiceNo\")[\"Quantity\"].sum().mean()\n",
    "\n",
    "# Calculate Total Revenue\n",
    "df_cleaned_products[\"TotalRevenue\"] = df_cleaned_products[\"Quantity\"] * df_cleaned_products[\"UnitPrice\"]\n",
    "total_revenue = df_cleaned_products[\"TotalRevenue\"].sum()\n",
    "\n",
    "# Display results\n",
    "print(f\"Average Quantity per Transaction: {quantity_per_transaction:.2f}\")\n",
    "print(f\"Total Revenue: ${total_revenue:,.2f}\")"
   ]
  },
  {
   "cell_type": "markdown",
   "id": "99fe2bf3-9564-4d77-b183-7386d9e05fcf",
   "metadata": {},
   "source": [
    "# 4. Exporting the cleaned dataframe"
   ]
  },
  {
   "cell_type": "code",
   "execution_count": 122,
   "id": "fedd53ed-efc2-4fa9-b1fc-f644835016b3",
   "metadata": {},
   "outputs": [
    {
     "name": "stdout",
     "output_type": "stream",
     "text": [
      "File saved successfully at: /Users/buketoztekin/Documents/Tata Internship/cleaned_data.csv\n"
     ]
    }
   ],
   "source": [
    "path = r'/Users/buketoztekin/Documents/Tata Internship/cleaned_data.csv'\n",
    "df_cleaned_products.to_csv(path, index=False)\n",
    "print(f\"File saved successfully at: {path}\")"
   ]
  },
  {
   "cell_type": "code",
   "execution_count": null,
   "id": "dfab2d7c-0499-47e1-aa78-8bad830d6927",
   "metadata": {},
   "outputs": [],
   "source": []
  }
 ],
 "metadata": {
  "kernelspec": {
   "display_name": "Python [conda env:base] *",
   "language": "python",
   "name": "conda-base-py"
  },
  "language_info": {
   "codemirror_mode": {
    "name": "ipython",
    "version": 3
   },
   "file_extension": ".py",
   "mimetype": "text/x-python",
   "name": "python",
   "nbconvert_exporter": "python",
   "pygments_lexer": "ipython3",
   "version": "3.11.7"
  }
 },
 "nbformat": 4,
 "nbformat_minor": 5
}
